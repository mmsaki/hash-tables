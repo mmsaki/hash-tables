{
 "cells": [
  {
   "cell_type": "code",
   "execution_count": 11,
   "metadata": {},
   "outputs": [
    {
     "data": {
      "text/plain": [
       "5492980716968834542"
      ]
     },
     "execution_count": 11,
     "metadata": {},
     "output_type": "execute_result"
    }
   ],
   "source": [
    "hash(\"Lorem ipsum dolor sit amet, consectetur adipisicing elit,\"\n",
    " \"sed do eiusmod tempor incididunt ut labore et dolore magna\"\n",
    " \"aliqua. Ut enim ad minim veniam, quis nostrud exercitation\"\n",
    " \"ullamco laboris nisi ut aliquip ex ea commodo consequat.\"\n",
    " \"Duis aute irure dolor in reprehenderit in voluptate velit\"\n",
    " \"esse cillum dolore eu fugiat nulla pariatur. Excepteur sint\"\n",
    " \"occaecat cupidatat non proident, sunt in culpa qui officia\" \"deserunt mollit anim id est laborum.\")"
   ]
  },
  {
   "cell_type": "code",
   "execution_count": 12,
   "metadata": {},
   "outputs": [
    {
     "data": {
      "text/plain": [
       "-6783682539930343085"
      ]
     },
     "execution_count": 12,
     "metadata": {},
     "output_type": "execute_result"
    }
   ],
   "source": [
    "hash(\"Lorem\")"
   ]
  },
  {
   "cell_type": "code",
   "execution_count": 13,
   "metadata": {},
   "outputs": [],
   "source": [
    "# hash_distribution.py\n",
    "\n",
    "from collections import Counter\n",
    "from string import printable\n",
    "\n",
    "def distribute(items, num_containers, hash_function=hash):\n",
    "    return Counter([hash_function(item) % num_containers for item in items])\n",
    "\n",
    "def plot(histogram):\n",
    "    for key in sorted(histogram):\n",
    "        count = histogram[key]\n",
    "        padding = (max(histogram.values()) - count) * \" \"\n",
    "        print(f\"{key:3} {'■' * count}{padding} ({count})\")\n"
   ]
  },
  {
   "cell_type": "code",
   "execution_count": 14,
   "metadata": {},
   "outputs": [
    {
     "name": "stdout",
     "output_type": "stream",
     "text": [
      "  0 ■■■■■■■■■■■■■■■■■■■■■■■■■■■■■■■■■■■■■■■■■■■■■■■■■■■■■■ (54)\n",
      "  1 ■■■■■■■■■■■■■■■■■■■■■■■■■■■■■■■■■■■■■■■■■■■■■■         (46)\n"
     ]
    }
   ],
   "source": [
    "plot(distribute(printable, num_containers=2))"
   ]
  },
  {
   "cell_type": "code",
   "execution_count": 15,
   "metadata": {},
   "outputs": [
    {
     "name": "stdout",
     "output_type": "stream",
     "text": [
      "  0 ■■■■■■■■■■■■■■■■■■■■  (20)\n",
      "  1 ■■■■■■■■■■■■■■■■■■■■  (20)\n",
      "  2 ■■■■■■■■■■■■■■■■■■■■■ (21)\n",
      "  3 ■■■■■■■■■■■■■■■■■■■■■ (21)\n",
      "  4 ■■■■■■■■■■■■■■■■■■    (18)\n"
     ]
    }
   ],
   "source": [
    "plot(distribute(printable, num_containers=5))"
   ]
  },
  {
   "cell_type": "code",
   "execution_count": 16,
   "metadata": {},
   "outputs": [
    {
     "data": {
      "text/plain": [
       "140288553305200"
      ]
     },
     "execution_count": 16,
     "metadata": {},
     "output_type": "execute_result"
    }
   ],
   "source": [
    "id(\"Lorem\")"
   ]
  },
  {
   "cell_type": "code",
   "execution_count": 17,
   "metadata": {},
   "outputs": [
    {
     "data": {
      "text/plain": [
       "9223372036854775807"
      ]
     },
     "execution_count": 17,
     "metadata": {},
     "output_type": "execute_result"
    }
   ],
   "source": [
    "sys.maxsize"
   ]
  },
  {
   "cell_type": "code",
   "execution_count": 18,
   "metadata": {},
   "outputs": [],
   "source": [
    "def hash_function(key):\n",
    "    return sum(\n",
    "        index * ord(character)\n",
    "        for index, character in enumerate(repr(key).lstrip(\"'\"), 1))"
   ]
  },
  {
   "cell_type": "code",
   "execution_count": 19,
   "metadata": {},
   "outputs": [
    {
     "data": {
      "text/plain": [
       "39"
      ]
     },
     "execution_count": 19,
     "metadata": {},
     "output_type": "execute_result"
    }
   ],
   "source": [
    "hash_function(\"This is very long and slow!\" * 1_000_000) % 100"
   ]
  },
  {
   "cell_type": "code",
   "execution_count": 20,
   "metadata": {},
   "outputs": [
    {
     "name": "stdout",
     "output_type": "stream",
     "text": [
      "  0 ■■■■■■■■■■■■■■■■   (16)\n",
      "  1 ■■■■■■■■■■■■■■■■   (16)\n",
      "  2 ■■■■■■■■■■■■■■■    (15)\n",
      "  3 ■■■■■■■■■■■■■■■■■■ (18)\n",
      "  4 ■■■■■■■■■■■■■■■■■  (17)\n",
      "  5 ■■■■■■■■■■■■■■■■■■ (18)\n"
     ]
    }
   ],
   "source": [
    "plot(distribute(printable, 6, hash_function))"
   ]
  },
  {
   "cell_type": "code",
   "execution_count": 21,
   "metadata": {},
   "outputs": [
    {
     "data": {
      "text/plain": [
       "(175, 176, 177)"
      ]
     },
     "execution_count": 21,
     "metadata": {},
     "output_type": "execute_result"
    }
   ],
   "source": [
    "hash_function(\"a\"), hash_function(\"b\"), hash_function(\"c\")"
   ]
  },
  {
   "cell_type": "code",
   "execution_count": 22,
   "metadata": {},
   "outputs": [
    {
     "data": {
      "text/plain": [
       "'siphash24'"
      ]
     },
     "execution_count": 22,
     "metadata": {},
     "output_type": "execute_result"
    }
   ],
   "source": [
    "import sys\n",
    "sys.hash_info.algorithm"
   ]
  },
  {
   "cell_type": "code",
   "execution_count": 23,
   "metadata": {},
   "outputs": [
    {
     "name": "stdout",
     "output_type": "stream",
     "text": [
      "True\n",
      "True\n",
      "False\n",
      "True\n",
      "True\n",
      "True\n"
     ]
    }
   ],
   "source": [
    "nums = [1,7,3,6,5,6]\n",
    "\n",
    "for i, v in enumerate(nums, start=1):\n",
    "    print(sum(nums[:i]) != sum(nums[i+1:]))"
   ]
  },
  {
   "cell_type": "code",
   "execution_count": 24,
   "metadata": {},
   "outputs": [
    {
     "data": {
      "text/plain": [
       "3"
      ]
     },
     "execution_count": 24,
     "metadata": {},
     "output_type": "execute_result"
    }
   ],
   "source": [
    "nums = [1,7,3,6,5,6]\n",
    "def pivotIndex(nums) -> int:\n",
    "        # if sum of left = sum of right return pivot Index\n",
    "        pivot = []\n",
    "        for i in range(len(nums)):\n",
    "            pivot.append(sum(nums[:i]) == sum(nums[i+1:]))\n",
    "        for i, v in enumerate(pivot):\n",
    "            if v == True:\n",
    "                return i\n",
    "\n",
    "pivotIndex(nums)"
   ]
  },
  {
   "cell_type": "code",
   "execution_count": 25,
   "metadata": {},
   "outputs": [
    {
     "data": {
      "text/plain": [
       "3.5"
      ]
     },
     "execution_count": 25,
     "metadata": {},
     "output_type": "execute_result"
    }
   ],
   "source": [
    "import math\n",
    "math.fsum([2,5])/len([2,7])\n"
   ]
  },
  {
   "cell_type": "code",
   "execution_count": 26,
   "metadata": {},
   "outputs": [],
   "source": [
    "# Vending machine question\n",
    "class VendingMachine:\n",
    "    # Implement the VendingMachine here\n",
    "    def __init__(self, num_items: int, item_price:int):\n",
    "        self.num_items = num_items\n",
    "        self.item_price = item_price\n",
    "        \n",
    "    def buy(self, req_items:int, money:int) -> int:\n",
    "        if req_items > self.num_items:\n",
    "            raise ValueError(\"Not enough items in the machine\")\n",
    "        elif money < self.item_price * req_items:\n",
    "            raise ValueError(\"Not enough coins\")\n",
    "        else:\n",
    "            self.num_items -= req_items\n",
    "            return money - self.item_price * req_items"
   ]
  }
 ],
 "metadata": {
  "kernelspec": {
   "display_name": "Python 3.9.13 ('vyper')",
   "language": "python",
   "name": "python3"
  },
  "language_info": {
   "codemirror_mode": {
    "name": "ipython",
    "version": 3
   },
   "file_extension": ".py",
   "mimetype": "text/x-python",
   "name": "python",
   "nbconvert_exporter": "python",
   "pygments_lexer": "ipython3",
   "version": "3.9.13"
  },
  "orig_nbformat": 4,
  "vscode": {
   "interpreter": {
    "hash": "eaa2a2c5f41a3f005b5102f94c852e2d6e426e978c8ade127addda1d02d4dc06"
   }
  }
 },
 "nbformat": 4,
 "nbformat_minor": 2
}
